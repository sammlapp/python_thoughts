{
 "cells": [
  {
   "cell_type": "markdown",
   "id": "12e81d7f-e2f1-4a7d-803d-a8d8af7c6336",
   "metadata": {
    "tags": []
   },
   "source": [
    "# Python variables and 'pass by assignment'"
   ]
  },
  {
   "cell_type": "markdown",
   "id": "c9df9fb4-43af-4b7e-b286-46bbfdd34fd9",
   "metadata": {},
   "source": [
    "Grasping \"pass by assignment\" in Python\n",
    "\n",
    "1. Variables are `names` that are bound to objects in memory (in other words, they point to a memory position)\n",
    "2. If you _assign_ (=) a value to a variable, Python re-binds the `name` to the memory location of the assigned object\n",
    "3. Some objects are mutable, some aren't\n",
    "4. Mutable object or not, assignment still re-binds a variable `name` to the memory location of the assigned object\n",
    "4. Scope: variables created within a function are invisible outside of it\n",
    "5. If you pass a mutable object to a function, the function can modify it \n",
    "7. assignment within a function binds the variable to a new, locally-scoped object\n"
   ]
  },
  {
   "cell_type": "markdown",
   "id": "d587a19a-5e9b-4578-a706-f30f8fc0f234",
   "metadata": {},
   "source": [
    "Here are some examples that might help explain these principles"
   ]
  },
  {
   "cell_type": "markdown",
   "id": "13f03a4a-6ca9-46e8-adf5-8aee873b386f",
   "metadata": {},
   "source": [
    "### 1. Variables are `names` that are bound to objects in memory\n",
    "IE, they specify the location in memory of an object"
   ]
  },
  {
   "cell_type": "code",
   "execution_count": 195,
   "id": "512d2ff0-2aff-4e72-a448-017228fa9412",
   "metadata": {},
   "outputs": [
    {
     "name": "stdout",
     "output_type": "stream",
     "text": [
      "4307904784\n"
     ]
    }
   ],
   "source": [
    "x = 0\n",
    "print(id(x))"
   ]
  },
  {
   "cell_type": "markdown",
   "id": "2c0eadc0-731b-44c8-816e-b1ba3937e5c1",
   "metadata": {
    "tags": []
   },
   "source": [
    "### 2. __Important__: Each time you use the assignment operator for a variable, it will bind the variable `name` to the location of the object you assigned to it\n",
    "\n",
    "This is subtle. First, let's examine the scenario where you assign two different values to x: x is first bound to the position of an integer object `0` in memory, then to the position of the integer object `1`"
   ]
  },
  {
   "cell_type": "code",
   "execution_count": 10,
   "id": "816acb03-1907-4184-b18b-f44532d0e7cd",
   "metadata": {},
   "outputs": [
    {
     "name": "stdout",
     "output_type": "stream",
     "text": [
      "4316588304\n",
      "4316588336\n"
     ]
    }
   ],
   "source": [
    "x = 0\n",
    "print(id(x))\n",
    "x = 1\n",
    "print(id(x))"
   ]
  },
  {
   "cell_type": "markdown",
   "id": "19655493-18e9-4bef-a7fd-0df3331888f6",
   "metadata": {},
   "source": [
    "Python is smart enough to not create two objects `0` in memory though: if we assign x to 0 twice, it still points to the same memory location"
   ]
  },
  {
   "cell_type": "code",
   "execution_count": 11,
   "id": "b6e8c251-cd92-41eb-8626-7b82a8a131b6",
   "metadata": {},
   "outputs": [
    {
     "name": "stdout",
     "output_type": "stream",
     "text": [
      "4316588304\n",
      "4316588304\n"
     ]
    }
   ],
   "source": [
    "x = 0\n",
    "print(id(x))\n",
    "x = 0\n",
    "print(id(x))"
   ]
  },
  {
   "cell_type": "markdown",
   "id": "38cec37f-bb5c-45e4-b593-5d29760c4bb6",
   "metadata": {},
   "source": [
    "This is because the integer 0 is a single object in memory that Python knows about. In fact, we could even directly ask Python where the integer 0 is:"
   ]
  },
  {
   "cell_type": "code",
   "execution_count": 18,
   "id": "d4ebc74d-a569-4b85-8605-f3ba7f2873a9",
   "metadata": {},
   "outputs": [
    {
     "data": {
      "text/plain": [
       "4316588304"
      ]
     },
     "execution_count": 18,
     "metadata": {},
     "output_type": "execute_result"
    }
   ],
   "source": [
    "id(0)"
   ]
  },
  {
   "cell_type": "markdown",
   "id": "61f69d8c-ee7e-479c-818a-3ddedb617b64",
   "metadata": {},
   "source": [
    "What happens when we \"assign\" one variable to another?\n",
    "Here, we create a name \"y\" and assign it to x. The name y needs to be bound to an object in memory, not to a \"variable\" or name. So, following the binding of x to its position in memory, that position in memory is assigned to y. (You could think of it as \"evaluating\" the variable name to get its memory position.) The result is that x and y now both point to the same position in memory."
   ]
  },
  {
   "cell_type": "code",
   "execution_count": 19,
   "id": "624eb0be-b31b-4a35-a3e7-8ebea906afae",
   "metadata": {},
   "outputs": [
    {
     "name": "stdout",
     "output_type": "stream",
     "text": [
      "4316588304\n",
      "4316588304\n"
     ]
    }
   ],
   "source": [
    "x = 0\n",
    "y = x\n",
    "print(id(x))\n",
    "print(id(y))"
   ]
  },
  {
   "cell_type": "markdown",
   "id": "e6c3b03c-d36b-4cfc-a172-6c84b09fed21",
   "metadata": {},
   "source": [
    "what will happen if we change the value of y? will the value of x change? \n",
    "\n",
    "No! \n",
    "\n",
    "If we assign a new object to y, python re-binds y to the new object. x is still bound to the original object. Remember that the names \"x\" and \"y\" were not bound to eachother, they were joint both bound to (pointing to) the same object in memory."
   ]
  },
  {
   "cell_type": "code",
   "execution_count": 20,
   "id": "1fe9260d-c8b1-44c2-b090-0578e43ad0a5",
   "metadata": {},
   "outputs": [
    {
     "name": "stdout",
     "output_type": "stream",
     "text": [
      "4316588304\n",
      "4316588304\n",
      "0\n",
      "x still points to the memory position of the value 0, while y now points to the memory position with value 1\n",
      "4316588304\n",
      "4316588336\n"
     ]
    }
   ],
   "source": [
    "x = 0\n",
    "y = x\n",
    "print(id(x))\n",
    "print(id(y))\n",
    "y = 1 #creates new memory object and binds name \"y\" to it\n",
    "print(x)\n",
    "print('x still points to the memory position of the value 0, while y now points to the memory position with value 1')\n",
    "print(id(x))\n",
    "print(id(y))"
   ]
  },
  {
   "cell_type": "markdown",
   "id": "0fcc210c-127d-47c7-97d5-35f151637dea",
   "metadata": {},
   "source": [
    "\n",
    "An analogy _might_ be helpful here: You (Python) are assigning dinner guests (variable names) to tables (objects). You might assign John to Table 1 (`john='table1'`). Then you assign Sally to go sit with John (`sally=john`). Sally sits at Table 1 because that's where John is. Then you re-assign John to Table 2 (`john='table2'`). John gets up and moves to Table 2, but Sally stays at Table 1. "
   ]
  },
  {
   "cell_type": "markdown",
   "id": "2a91d247-dda4-4588-aa4f-23a0570c4bad",
   "metadata": {},
   "source": [
    "### 3. Some objects are mutable, some aren't\n",
    "Lists [] are mutable, but Tuples () are immutable\n",
    "\n",
    "Mutable objects can have their contents changed, and retain the same position in memory.\n",
    "\n",
    "Immutable objects cannot be changed. The position in memory will only hold the exact object it has always had. "
   ]
  },
  {
   "cell_type": "code",
   "execution_count": 21,
   "id": "48a56503-e77a-4d10-9c7e-50d67cd303fa",
   "metadata": {},
   "outputs": [
    {
     "name": "stdout",
     "output_type": "stream",
     "text": [
      "4366910080\n",
      "4366910080\n"
     ]
    }
   ],
   "source": [
    "x = [0,1,2,3]\n",
    "print(id(x))\n",
    "x[0] = -1 #mutable list: same memory position after modification\n",
    "print(id(x))"
   ]
  },
  {
   "cell_type": "markdown",
   "id": "4aa74ba3-a0bf-4891-8ebc-a5a213458dac",
   "metadata": {},
   "source": [
    "tuple: immutable"
   ]
  },
  {
   "cell_type": "code",
   "execution_count": 22,
   "id": "9a4e4408-f4c1-4b66-8efb-8b7d750cb552",
   "metadata": {},
   "outputs": [
    {
     "name": "stdout",
     "output_type": "stream",
     "text": [
      "4366662608\n",
      "4366662048\n"
     ]
    }
   ],
   "source": [
    "x = (0,1,2,3)\n",
    "print(id(x))\n",
    "#immutable tuple: cannot modify a specific value\n",
    "\n",
    "# x[0] = -1  #raises TypeError\n",
    "\n",
    "# to modify it, we would need to make a new object\n",
    "x = (-1,1,2,3)\n",
    "print(id(x))"
   ]
  },
  {
   "cell_type": "markdown",
   "id": "aafb8a26-5c27-4d2d-8db2-a3a9186e96df",
   "metadata": {
    "tags": []
   },
   "source": [
    "### 4. Mutable object or not, assignment still re-binds a variable `name` to the memory location of the assigned object\n",
    "\n",
    "remember: if we use assignment (=) we re-bind the variable name to the assigned object's position in memory. \n",
    "\n",
    "It doesn't matter that the object is mutable, because we're now pointing the name to a completely different (possibly new) object"
   ]
  },
  {
   "cell_type": "code",
   "execution_count": 50,
   "id": "2ba348b6-1296-4827-a277-e1905e4a2401",
   "metadata": {},
   "outputs": [
    {
     "name": "stdout",
     "output_type": "stream",
     "text": [
      "4366913280\n",
      "4366908864\n"
     ]
    }
   ],
   "source": [
    "x = [0,1]\n",
    "print(id(x))\n",
    "x = [1,1] #rebind variable name x to a new object. We aren't changing the mutable object's content, we are making a new object\n",
    "print(id(x))"
   ]
  },
  {
   "cell_type": "markdown",
   "id": "08fcb8bb-3c6b-49eb-a1db-866afe0d3fd5",
   "metadata": {},
   "source": [
    "### 5. Scope: variables created within a function are invisible outside of it\n",
    "\n",
    "If you're familiar with scoping, this is not surprising when the variables have different names:"
   ]
  },
  {
   "cell_type": "code",
   "execution_count": 42,
   "id": "86c4895f-1886-4b65-8f79-f00034d7edd2",
   "metadata": {},
   "outputs": [
    {
     "ename": "NameError",
     "evalue": "name 'z' is not defined",
     "output_type": "error",
     "traceback": [
      "\u001b[0;31m---------------------------------------------------------------------------\u001b[0m",
      "\u001b[0;31mNameError\u001b[0m                                 Traceback (most recent call last)",
      "\u001b[0;32m/var/folders/d8/265wdp1n0bn_r85dh3pp95fh0000gq/T/ipykernel_13295/2833796683.py\u001b[0m in \u001b[0;36m<cell line: 4>\u001b[0;34m()\u001b[0m\n\u001b[1;32m      2\u001b[0m     \u001b[0mz\u001b[0m \u001b[0;34m=\u001b[0m \u001b[0;36m10\u001b[0m\u001b[0;34m\u001b[0m\u001b[0;34m\u001b[0m\u001b[0m\n\u001b[1;32m      3\u001b[0m \u001b[0mmake_z\u001b[0m\u001b[0;34m(\u001b[0m\u001b[0;34m)\u001b[0m\u001b[0;34m\u001b[0m\u001b[0;34m\u001b[0m\u001b[0m\n\u001b[0;32m----> 4\u001b[0;31m \u001b[0mprint\u001b[0m\u001b[0;34m(\u001b[0m\u001b[0mz\u001b[0m\u001b[0;34m)\u001b[0m\u001b[0;34m\u001b[0m\u001b[0;34m\u001b[0m\u001b[0m\n\u001b[0m",
      "\u001b[0;31mNameError\u001b[0m: name 'z' is not defined"
     ]
    }
   ],
   "source": [
    "def make_z():\n",
    "    z = 10\n",
    "make_z()\n",
    "print(z)"
   ]
  },
  {
   "cell_type": "markdown",
   "id": "744bfe66-ace4-4663-a23b-e96ee66705fa",
   "metadata": {},
   "source": [
    "but can be surprising when the variables have the same names.\n",
    "\n",
    "Either way, to python, the inner scope variable is completely different from the outer one. "
   ]
  },
  {
   "cell_type": "code",
   "execution_count": 43,
   "id": "4ce1e260-4c3b-42c1-88d5-759491c4d349",
   "metadata": {},
   "outputs": [
    {
     "name": "stdout",
     "output_type": "stream",
     "text": [
      "1\n"
     ]
    }
   ],
   "source": [
    "a = 1\n",
    "def make_a_10(a):\n",
    "    a = 10\n",
    "make_a_10(a)\n",
    "print(a)"
   ]
  },
  {
   "cell_type": "markdown",
   "id": "af7564f7-77b4-4bb8-9333-df805571bac6",
   "metadata": {},
   "source": [
    "to Python, this code is equivalent to"
   ]
  },
  {
   "cell_type": "code",
   "execution_count": 44,
   "id": "a8bb325d-4943-41a3-a846-15fdfc420079",
   "metadata": {},
   "outputs": [
    {
     "name": "stdout",
     "output_type": "stream",
     "text": [
      "1\n"
     ]
    }
   ],
   "source": [
    "a = 1\n",
    "def make_a_10(a):\n",
    "    different_variable = 10\n",
    "make_a_10(a)\n",
    "print(a)"
   ]
  },
  {
   "cell_type": "markdown",
   "id": "504a995e-3827-4442-a49d-4c8e7be1caed",
   "metadata": {},
   "source": [
    "If this is confusing, remember that the assignment (=) inside the function creates a brand new variable that is only visible in the function's scope, (which is why I say it might as well have a different name.)"
   ]
  },
  {
   "cell_type": "code",
   "execution_count": 51,
   "id": "ed3f799c-8ca4-434f-a30a-2be96e730898",
   "metadata": {},
   "outputs": [
    {
     "name": "stdout",
     "output_type": "stream",
     "text": [
      "outer a id:\n",
      "4316588336\n",
      "inner a id:\n",
      "4316588624\n",
      "the outer scope knows nothing about the secret inner a, it still points to the original one:\n",
      "4316588336\n",
      "value of outer a is unchanged:\n",
      "1\n"
     ]
    }
   ],
   "source": [
    "a = 1\n",
    "print('outer a id:')\n",
    "print(id(a))\n",
    "def make_a_10(a):\n",
    "    a = 10 #the OTHER a that only this function knows about ^^\n",
    "    print('inner a id:')\n",
    "    print(id(a))\n",
    "make_a_10(a)\n",
    "print('the outer scope knows nothing about the secret inner a, it still points to the original one:')\n",
    "print(id(a)) \n",
    "print('value of outer a is unchanged:')\n",
    "print(a)"
   ]
  },
  {
   "cell_type": "markdown",
   "id": "88d555ea-7293-4d83-945e-67114ec6b855",
   "metadata": {
    "tags": []
   },
   "source": [
    "### 6. If you pass a mutable object to a function, the function can modify it \n",
    "\n",
    "(because the variable is pointing to a position in memory that is known by the outer scope)\n"
   ]
  },
  {
   "cell_type": "code",
   "execution_count": 46,
   "id": "b5007c1a-64ef-4bf4-97fd-6f3fce4c7199",
   "metadata": {},
   "outputs": [
    {
     "name": "stdout",
     "output_type": "stream",
     "text": [
      "4366910080\n",
      "the memory location is the same inside the function:\n",
      "4366910080\n",
      "since its a mutable list, we can modify its values\n",
      "note that the function does not return anything. It modifies the orignal object in memory\n",
      "[-1, 1]\n",
      "4366910080\n"
     ]
    }
   ],
   "source": [
    "x = [0,1] # mutable list object\n",
    "def modify_object(x):\n",
    "    print('the memory location is the same inside the function:')\n",
    "    print(id(x))\n",
    "    print('since its a mutable list, we can modify its values')\n",
    "    x[0] = -1\n",
    "    print('note that the function does not return anything. It modifies the orignal object in memory')\n",
    "print(id(x))\n",
    "modify_object(x)\n",
    "print(x)\n",
    "print(id(x))"
   ]
  },
  {
   "cell_type": "markdown",
   "id": "f81e75e0-19d2-4797-8bb6-e5686b8c5e8c",
   "metadata": {
    "tags": []
   },
   "source": [
    "### 7. assignment within a function binds the variable to a new, locally-scoped object\n",
    "\n",
    "There's nothing new here, but the combination of the above laws can lead to a confusing behavior. \n",
    "\n",
    "remember: if we use assignment (=) we re-bind the variable name to the assigned object's position in memory. \n",
    "\n",
    "If we do this inside a function, the outer scope won't know about it, and the variable from the outer scope will still point to the original location! It doesn't matter that the object is mutable, because we're now pointing the name to a completely different (possibly new) object"
   ]
  },
  {
   "cell_type": "code",
   "execution_count": 39,
   "id": "6058deb8",
   "metadata": {},
   "outputs": [
    {
     "name": "stdout",
     "output_type": "stream",
     "text": [
      "4366913664\n",
      "the memory location is the same inside the function:\n",
      "4366913664\n",
      "after using the assignment (=) operator, we created a brand new, locally-scoped x\n",
      "4366900352\n",
      "value of new, local x inside the function\n",
      "[-1, 1]\n",
      "if we dont return this new INNER x variable and assign its value to the outer variable, the outer context still points to the old position in memory\n",
      "[0, 1]\n",
      "4366913664\n"
     ]
    }
   ],
   "source": [
    "x = [0,1] # mutable list object\n",
    "def modify_object(x):\n",
    "    print('the memory location is the same inside the function:')\n",
    "    print(id(x))\n",
    "    x = [-1,1] #rebind x to a new object\n",
    "    print('after using the assignment (=) operator, we created a brand new, locally-scoped x')\n",
    "    print(id(x))\n",
    "    print('value of new, local x inside the function')\n",
    "    print(x)\n",
    "    print('if we dont return this new INNER x variable and assign its value to the outer variable, the outer context still points to the old position in memory')\n",
    "\n",
    "print(id(x))\n",
    "modify_object(x)\n",
    "print(x)\n",
    "print(id(x))"
   ]
  },
  {
   "cell_type": "markdown",
   "id": "0040af26-83d6-4374-b0bd-123401edfa50",
   "metadata": {},
   "source": [
    "This isn't really so confusing if we remember that assignment re-binds the object rather than modifying the existing one:"
   ]
  },
  {
   "cell_type": "code",
   "execution_count": 48,
   "id": "4d0bad19-ec5d-43ca-ab8e-60881285909a",
   "metadata": {},
   "outputs": [
    {
     "name": "stdout",
     "output_type": "stream",
     "text": [
      "4366912320\n",
      "4366842688\n"
     ]
    }
   ],
   "source": [
    "x = [0,1]\n",
    "print(id(x))\n",
    "x = [-1,1]\n",
    "print(id(x))"
   ]
  }
 ],
 "metadata": {
  "kernelspec": {
   "display_name": "opso_dev",
   "language": "python",
   "name": "opso_dev"
  },
  "language_info": {
   "codemirror_mode": {
    "name": "ipython",
    "version": 3
   },
   "file_extension": ".py",
   "mimetype": "text/x-python",
   "name": "python",
   "nbconvert_exporter": "python",
   "pygments_lexer": "ipython3",
   "version": "3.9.13"
  }
 },
 "nbformat": 4,
 "nbformat_minor": 5
}
